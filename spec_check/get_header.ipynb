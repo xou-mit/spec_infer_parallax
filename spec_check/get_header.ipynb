{
 "cells": [
  {
   "cell_type": "code",
   "execution_count": 1,
   "metadata": {},
   "outputs": [],
   "source": [
    "import sys\n",
    "import glob\n",
    "import numpy as np\n",
    "import pandas as pd\n",
    "\n",
    "import matplotlib.pyplot as plt\n",
    "import matplotlib\n",
    "label_size = 24\n",
    "matplotlib.rc('font', size=label_size) \n",
    "\n",
    "from astropy import units as u\n",
    "from astropy.coordinates import SkyCoord\n",
    "from astropy.coordinates import Angle\n",
    "\n",
    "from astropy.io import ascii, fits\n",
    "from astropy.table import Table\n",
    "\n",
    "\n",
    "import warnings\n",
    "warnings.filterwarnings(\"once\")"
   ]
  },
  {
   "cell_type": "code",
   "execution_count": 58,
   "metadata": {},
   "outputs": [],
   "source": [
    "\n",
    "hdus = fits.open(\"/Users/xwou/Documents/Research/MIT/spectro_photo_parallax_DR17/spec_download_norm/data/spectra/apStar-dr17-2M00001493+5534446.fits\")\n",
    "header = hdus[0].header\n",
    "data = hdus[1].data\n",
    "noise = hdus[2].data\n",
    "bitmask = hdus[3].data\n",
    "hdus.close()"
   ]
  },
  {
   "cell_type": "code",
   "execution_count": 59,
   "metadata": {},
   "outputs": [
    {
     "data": {
      "text/plain": [
       "SIMPLE  =                    T / conforms to FITS standard                      \n",
       "BITPIX  =                    8 / array data type                                \n",
       "NAXIS   =                    0 / number of array dimensions                     \n",
       "EXTEND  =                    T                                                  \n",
       "CRVAL1  =                4.179 / Start log10(wavelength) in subsequent HDUs     \n",
       "CDELT1  =                6E-06 / Dispersion in log10(wave) in subsequent HDUs   \n",
       "CRPIX1  =                    1 / Pixel of starting wavelength in subsequent HDUs\n",
       "CTYPE1  = 'LOG-LINEAR'         / Logarithmic wavelength scale in subsequent HDUs\n",
       "DC-FLAG =                    1 / Logarithmic wavelength scale in subsequent HDUs\n",
       "NWAVE   =                 8575 / Number of wavelengths in subsequent HDUs       \n",
       "FIELD   = 'NGC7789_btx'        / APOGEE field name                              \n",
       "OBJID   = '2M00001493+5534446' / APOGEE object name                             \n",
       "SNR     =    436.3759606026664 / Median S/N per apStar pixel                    \n",
       "SNREV   =    430.4582641527454 / Median S/N per apStar pixel in middle chip     \n",
       "RA      =             0.062212 / right ascension, deg, J2000                    \n",
       "DEC     =            55.579067 / declination, deg, J2000                        \n",
       "GLON    =    115.6913116354011 / Galactic longitude                             \n",
       "GLAT    =    -6.57126478344237 / Galactic latitude                              \n",
       "J       =    10.37199974060059 / 2MASS J magnitude                              \n",
       "J_ERR   =  0.02099999971687794 / 2MASS J magnitude uncertainty                  \n",
       "H       =    9.503000259399414 / 2MASS H magnitude                              \n",
       "H_ERR   =  0.02999999932944775 / 2MASS H magnitude uncertainty                  \n",
       "K       =    9.269000053405762 / 2MASS K magnitude                              \n",
       "K_ERR   =  0.02300000004470348 / 2MASS K magnitude uncertainty                  \n",
       "SRC_H   = '2MASS   '           / source of H magnitude                          \n",
       "WASH_M  =      -9999.990234375                                                  \n",
       "WASH_T2 =      -9999.990234375                                                  \n",
       "DDO51   =      -9999.990234375                                                  \n",
       "IRAC_3_6=      -9999.990234375                                                  \n",
       "IRAC_4_5=      -9999.990234375                                                  \n",
       "IRAC_5_8=      -9999.990234375                                                  \n",
       "WISE_4_5=    9.314000129699707                                                  \n",
       "TARG_4_5=    9.314000129699707                                                  \n",
       "AKTARG  =   0.1276021152734756 / Extinction used for targeting                  \n",
       "AKMETHOD= 'RJCE_WISE'          / Extinction method using for targeting          \n",
       "AKWISE  =   0.1276021152734756 / WISE all-sky extinction                        \n",
       "SFD_EBV =   0.3030708134174347 / SFD E(B-V)                                     \n",
       "APTARG1 =                    0 / APOGEE_TARGET1 targeting flag                  \n",
       "APTARG2 =                    0 / APOGEE_TARGET2 targeting flag                  \n",
       "AP2TARG1=          -2147465196 / APOGEE2_TARGET1 targeting flag                 \n",
       "AP2TARG2=                    0 / APOGEE2_TARGET2 targeting flag                 \n",
       "AP2TARG3=                    0 / APOGEE2_TARGET3 targeting flag                 \n",
       "AP2TARG4=                    0 / APOGEE2_TARGET4 targeting flag                 \n",
       "NVISITS =                    4 / Number of visit spectra combined flag          \n",
       "STARFLAG=             16777216 / bitwise OR of individual visit starflags       \n",
       "ANDFLAG =             16777216 / bitwise AND of individual visit starflags      \n",
       "N_COMP  =                    1 / Maximum number of components in RV CCFs        \n",
       "VHELIO  =   -54.30643072464885 / S/N weighted mean barycentric RV               \n",
       "VSCATTER=   0.3306198427633346 / standard deviation of visit RVs                \n",
       "VERR    =  0.02487730725489052 / weighted error in VHELIO                       \n",
       "VERR_MED=  0.02454144599240226 / median error in VHELIO                         \n",
       "RV_TEFF =    4013.556276040542 / Effective temperature from RV fit              \n",
       "RV_LOGG =    1.106673867896099 / Surface gravity from RV fit                    \n",
       "RV_FEH  =  -0.5950842438802504 / Metallicity from RV fit                        \n",
       "RV_CHI2 =    29.82023620605469 / chisq from Doppler RV fit                      \n",
       "CCFWHM  =    19.26977429343208 / FWHM of RV CCF of star with template (km/s)    \n",
       "AUTOFWHM=    12.70953253674332 / FWHM of RV CCF of template with template (km/s)\n",
       "MEANFIB =    135.4508514404297 / S/N weighted mean fiber number                 \n",
       "SIGFIB  =    4.509249752822894 / standard deviation (unweighted) of fiber number\n",
       "NRES    = ' 5.00 4.25 3.50'    / number of pixels/resolution used for sinc      \n",
       "MIN_H   =                  7.0 / minimum H mag of cohort                        \n",
       "MAX_H   =    12.19999980926514 / maximum H mag of cohort                        \n",
       "MIN_JK  =    0.800000011920929 / minimum J-K of cohort                          \n",
       "MAX_JK  =       9999.990234375 / maximum J-K of cohort                          \n",
       "RMIN    =                 6304 / Min pixel of red chip contrib, any frame       \n",
       "RMAX    =                 8395 / Maxmm pixel of red chip contrib, any frame     \n",
       "GMIN    =                 3547 / Min pixel of green chip contrib, any frame     \n",
       "GMAX    =                 6143 / Maxm pixel of green chip contrib, any frame    \n",
       "BMIN    =                  207 / Min pixel of blue chip contrib, any frame      \n",
       "BMAX    =                 3335 / Maxm pixel of blue chip contrib, any frame     \n",
       "ROVERMIN=                 6308 / Min pixel of red chip contrib, all frames      \n",
       "ROVERMAX=                 8390 / Max pixel of red chip contrib, all frames      \n",
       "GOVERMIN=                 3551 / Min pixel of green chip contrib, all frames    \n",
       "GOVERMAX=                 6138 / Max pixel of green chip contrib, all frames    \n",
       "BOVERMIN=                  212 / Minimum pixel of blue chip contrib, all frames \n",
       "BOVERMAX=                 3330 / Maximum pixel of blue chip contrib, all frames \n",
       "COMMENT VISIT 1 INFORMATION                                                     \n",
       "SFILE1  = 'apVisit-dr17-11466-58733-135.fits' /  Visit #1 spectrum file         \n",
       "DATE1   = '2019-09-07T07:36:53.694' / DATE-OBS of visit 1                       \n",
       "JD1     =        2458733.84055 / Julian date of visit 1                         \n",
       "FIBER1  =                  135 / Fiber, visit 1                                 \n",
       "BC1     =    13.70180606842041 / Barycentric correction (km/s), visit 1         \n",
       "VRAD1   =   -67.73852238564601 / Radial velocity (km/s) of visit 1              \n",
       "VERR1   =  0.02975327477555463 / Uncertainty in radial velocity (km/s)          \n",
       "VHELIO1 =    -54.0367163172256 / Barycentric velocity (km/s), visit 1           \n",
       "SNRVIS1 =    186.3860211085559 / Median S/N per apStar pixel,, visit 1          \n",
       "FLAG1   =             16777216 / STARFLAG for visit 1                           \n",
       "COMMENT VISIT 2 INFORMATION                                                     \n",
       "SFILE2  = 'apVisit-dr17-11466-58744-136.fits' /  Visit #2 spectrum file         \n",
       "DATE2   = '2019-09-18T07:11:02.782' / DATE-OBS of visit 2                       \n",
       "JD2     =         2458744.8226 / Julian date of visit 2                         \n",
       "FIBER2  =                  136 / Fiber, visit 2                                 \n",
       "BC2     =    10.94143104553223 / Barycentric correction (km/s), visit 2         \n",
       "VRAD2   =   -65.34803799212683 / Radial velocity (km/s) of visit 2              \n",
       "VERR2   =  0.02562955336335485 / Uncertainty in radial velocity (km/s)          \n",
       "VHELIO2 =   -54.40660694659461 / Barycentric velocity (km/s), visit 2           \n",
       "SNRVIS2 =    216.4973676390888 / Median S/N per apStar pixel,, visit 2          \n",
       "FLAG2   =             16777216 / STARFLAG for visit 2                           \n",
       "COMMENT VISIT 3 INFORMATION                                                     \n",
       "SFILE3  = 'apVisit-dr17-11466-58766-130.fits' /  Visit #3 spectrum file         \n",
       "DATE3   = '2019-10-10T05:11:42.034' / DATE-OBS of visit 3                       \n",
       "JD3     =        2458766.74555 / Julian date of visit 3                         \n",
       "FIBER3  =                  130 / Fiber, visit 3                                 \n",
       "BC3     =      4.3480224609375 / Barycentric correction (km/s), visit 3         \n",
       "VRAD3   =   -59.05323559929422 / Radial velocity (km/s) of visit 3              \n",
       "VERR3   =  0.02237603285268955 / Uncertainty in radial velocity (km/s)          \n",
       "VHELIO3 =   -54.70521313835672 / Barycentric velocity (km/s), visit 3           \n",
       "SNRVIS3 =    246.0175550160535 / Median S/N per apStar pixel,, visit 3          \n",
       "FLAG3   =             16777216 / STARFLAG for visit 3                           \n",
       "COMMENT VISIT 4 INFORMATION                                                     \n",
       "SFILE4  = 'apVisit-dr17-11466-58793-141.fits' /  Visit #4 spectrum file         \n",
       "DATE4   = '2019-11-06T02:33:45.424' / DATE-OBS of visit 4                       \n",
       "JD4     =        2458793.63004 / Julian date of visit 4                         \n",
       "FIBER4  =                  141 / Fiber, visit 4                                 \n",
       "BC4     =   -4.615568161010742 / Barycentric correction (km/s), visit 4         \n",
       "VRAD4   =   -49.39554706455823 / Radial velocity (km/s) of visit 4              \n",
       "VERR4   =  0.02345333862144966 / Uncertainty in radial velocity (km/s)          \n",
       "VHELIO4 =   -54.01111522556897 / Barycentric velocity (km/s), visit 4           \n",
       "SNRVIS4 =    237.4021471876978 / Median S/N per apStar pixel,, visit 4          \n",
       "FLAG4   =             16777216 / STARFLAG for visit 4                           \n",
       "HISTORY APOGEE Reduction Pipeline Version: 0.17.22                              \n",
       "HISTORY HDU0 : header                                                           \n",
       "HISTORY HDU1 : flux                                                             \n",
       "HISTORY HDU2 : flux uncertainty                                                 \n",
       "HISTORY HDU3 : pixel bitmask                                                    \n",
       "HISTORY HDU4 : sky                                                              \n",
       "HISTORY HDU5 : sky uncertainty                                                  \n",
       "HISTORY HDU6 : telluric                                                         \n",
       "HISTORY HDU7 : telluric uncertainty                                             \n",
       "HISTORY HDU8 : LSF table                                                        \n",
       "HISTORY HDU9 : RV table                                                         \n",
       "HISTORY HDU10 : RV table for combined spectrum                                  "
      ]
     },
     "execution_count": 59,
     "metadata": {},
     "output_type": "execute_result"
    }
   ],
   "source": [
    "header"
   ]
  },
  {
   "cell_type": "code",
   "execution_count": 17,
   "metadata": {},
   "outputs": [
    {
     "data": {
      "text/plain": [
       "SIMPLE  =                    T / conforms to FITS standard                      \n",
       "BITPIX  =                    8 / array data type                                \n",
       "NAXIS   =                    0 / number of array dimensions                     \n",
       "EXTEND  =                    T                                                  \n",
       "CRVAL1  =                4.179 / Start log10(wavelength) in subsequent HDUs     \n",
       "CDELT1  =                6E-06 / Dispersion in log10(wave) in subsequent HDUs   \n",
       "CRPIX1  =                    1 / Pixel of starting wavelength in subsequent HDUs\n",
       "CTYPE1  = 'LOG-LINEAR'         / Logarithmic wavelength scale in subsequent HDUs\n",
       "DC-FLAG =                    1 / Logarithmic wavelength scale in subsequent HDUs\n",
       "NWAVE   =                 8575 / Number of wavelengths in subsequent HDUs       \n",
       "FIELD   = '116-04  '           / APOGEE field name                              \n",
       "OBJID   = '2M00000317+5821383' / APOGEE object name                             \n",
       "SNR     =    638.6728075014842 / Median S/N per apStar pixel                    \n",
       "SNREV   =    923.3682033719347 / Median S/N per apStar pixel in middle chip     \n",
       "RA      =             0.013232 / right ascension, deg, J2000                    \n",
       "DEC     =            58.360649 / declination, deg, J2000                        \n",
       "GLON    =    116.2190793640249 / Galactic longitude                             \n",
       "GLAT    =   -3.839647442872737 / Galactic latitude                              \n",
       "J       =    8.206000328063965 / 2MASS J magnitude                              \n",
       "J_ERR   =  0.02099999971687794 / 2MASS J magnitude uncertainty                  \n",
       "H       =    7.278999805450439 / 2MASS H magnitude                              \n",
       "H_ERR   =  0.02700000070035458 / 2MASS H magnitude uncertainty                  \n",
       "K       =    6.946000099182129 / 2MASS K magnitude                              \n",
       "K_ERR   =  0.02099999971687794 / 2MASS K magnitude uncertainty                  \n",
       "SRC_H   = '2MASS   '           / source of H magnitude                          \n",
       "WASH_M  =      -9999.990234375                                                  \n",
       "WASH_T2 =      -9999.990234375                                                  \n",
       "DDO51   =      -9999.990234375                                                  \n",
       "IRAC_3_6=      -9999.990234375                                                  \n",
       "IRAC_4_5=      -9999.990234375                                                  \n",
       "IRAC_5_8=      -9999.990234375                                                  \n",
       "WISE_4_5=    6.951000213623047                                                  \n",
       "TARG_4_5=    6.968999862670898                                                  \n",
       "AKTARG  =   0.2386799305677414 / Extinction used for targeting                  \n",
       "AKMETHOD= 'RJCE_WISE_PARTSKY'  / Extinction method using for targeting          \n",
       "AKWISE  =   0.2552036046981812 / WISE all-sky extinction                        \n",
       "SFD_EBV =      -9999.990234375 / SFD E(B-V)                                     \n",
       "APTARG1 =          -2147481600 / APOGEE_TARGET1 targeting flag                  \n",
       "APTARG2 =                    0 / APOGEE_TARGET2 targeting flag                  \n",
       "AP2TARG1=                    0 / APOGEE2_TARGET1 targeting flag                 \n",
       "AP2TARG2=                    0 / APOGEE2_TARGET2 targeting flag                 \n",
       "AP2TARG3=                    0 / APOGEE2_TARGET3 targeting flag                 \n",
       "AP2TARG4=                    0 / APOGEE2_TARGET4 targeting flag                 \n",
       "NVISITS =                    3 / Number of visit spectra combined flag          \n",
       "STARFLAG=                  512 / bitwise OR of individual visit starflags       \n",
       "ANDFLAG =                  512 / bitwise AND of individual visit starflags      \n",
       "N_COMP  =                    1 / Maximum number of components in RV CCFs        \n",
       "VHELIO  =   -79.77434672713328 / S/N weighted mean barycentric RV               \n",
       "VSCATTER=  0.07881750530682592 / standard deviation of visit RVs                \n",
       "VERR    =  0.02016270870266583 / weighted error in VHELIO                       \n",
       "VERR_MED=  0.02059475753429474 / median error in VHELIO                         \n",
       "RV_TEFF =    3836.651995781777 / Effective temperature from RV fit              \n",
       "RV_LOGG =    1.122749555329685 / Surface gravity from RV fit                    \n",
       "RV_FEH  =  -0.4837976894243412 / Metallicity from RV fit                        \n",
       "RV_CHI2 =    73.84059143066406 / chisq from Doppler RV fit                      \n",
       "CCFWHM  =     17.3670609583763 / FWHM of RV CCF of star with template (km/s)    \n",
       "AUTOFWHM=     12.8341781501863 / FWHM of RV CCF of template with template (km/s)\n",
       "MEANFIB =    55.98076248168945 / S/N weighted mean fiber number                 \n",
       "SIGFIB  =    3.214550253664318 / standard deviation (unweighted) of fiber number\n",
       "NRES    = ' 5.00 4.25 3.50'    / number of pixels/resolution used for sinc      \n",
       "MIN_H   =                  7.0 / minimum H mag of cohort                        \n",
       "MAX_H   =    12.19999980926514 / maximum H mag of cohort                        \n",
       "MIN_JK  =                  0.5 / minimum J-K of cohort                          \n",
       "MAX_JK  =       9999.990234375 / maximum J-K of cohort                          \n",
       "RMIN    =                 6312 / Min pixel of red chip contrib, any frame       \n",
       "RMAX    =                 8399 / Maxmm pixel of red chip contrib, any frame     \n",
       "GMIN    =                 3557 / Min pixel of green chip contrib, any frame     \n",
       "GMAX    =                 6148 / Maxm pixel of green chip contrib, any frame    \n",
       "BMIN    =                  219 / Min pixel of blue chip contrib, any frame      \n",
       "BMAX    =                 3341 / Maxm pixel of blue chip contrib, any frame     \n",
       "ROVERMIN=                 6313 / Min pixel of red chip contrib, all frames      \n",
       "ROVERMAX=                 8398 / Max pixel of red chip contrib, all frames      \n",
       "GOVERMIN=                 3558 / Min pixel of green chip contrib, all frames    \n",
       "GOVERMAX=                 6147 / Max pixel of green chip contrib, all frames    \n",
       "BOVERMIN=                  220 / Minimum pixel of blue chip contrib, all frames \n",
       "BOVERMAX=                 3340 / Maximum pixel of blue chip contrib, all frames \n",
       "COMMENT VISIT 1 INFORMATION                                                     \n",
       "SFILE1  = 'apVisit-dr17-5583-56257-058.fits' /  Visit #1 spectrum file          \n",
       "DATE1   = '2012-11-26T02:08:31.255' / DATE-OBS of visit 1                       \n",
       "JD1     =        2456257.61257 / Julian date of visit 1                         \n",
       "FIBER1  =                   58 / Fiber, visit 1                                 \n",
       "BC1     =   -9.903946876525879 / Barycentric correction (km/s), visit 1         \n",
       "VRAD1   =   -69.81835932142644 / Radial velocity (km/s) of visit 1              \n",
       "VERR1   =  0.02059475753429474 / Uncertainty in radial velocity (km/s)          \n",
       "VHELIO1 =   -79.72230619795232 / Barycentric velocity (km/s), visit 1           \n",
       "SNRVIS1 =    356.5229369316602 / Median S/N per apStar pixel,, visit 1          \n",
       "FLAG1   =                  512 / STARFLAG for visit 1                           \n",
       "COMMENT VISIT 2 INFORMATION                                                     \n",
       "SFILE2  = 'apVisit-dr17-5583-56261-057.fits' /  Visit #2 spectrum file          \n",
       "DATE2   = '2012-11-30T02:17:10.680' / DATE-OBS of visit 2                       \n",
       "JD2     =        2456261.61858 / Julian date of visit 2                         \n",
       "FIBER2  =                   57 / Fiber, visit 2                                 \n",
       "BC2     =   -11.02161026000977 / Barycentric correction (km/s), visit 2         \n",
       "VRAD2   =   -68.73038685658736 / Radial velocity (km/s) of visit 2              \n",
       "VERR2   =  0.01735060774264859 / Uncertainty in radial velocity (km/s)          \n",
       "VHELIO2 =   -79.75199711659712 / Barycentric velocity (km/s), visit 2           \n",
       "SNRVIS2 =    425.5430010661574 / Median S/N per apStar pixel,, visit 2          \n",
       "FLAG2   =                  512 / STARFLAG for visit 2                           \n",
       "COMMENT VISIT 3 INFORMATION                                                     \n",
       "SFILE3  = 'apVisit-dr17-5583-56284-052.fits' /  Visit #3 spectrum file          \n",
       "DATE3   = '2012-12-23T00:47:10.733' / DATE-OBS of visit 3                       \n",
       "JD3     =        2456284.55608 / Julian date of visit 3                         \n",
       "FIBER3  =                   52 / Fiber, visit 3                                 \n",
       "BC3     =   -16.16160774230957 / Barycentric correction (km/s), visit 3         \n",
       "VRAD3   =   -63.70961641192442 / Radial velocity (km/s) of visit 3              \n",
       "VERR3   =  0.02454708665900939 / Uncertainty in radial velocity (km/s)          \n",
       "VHELIO3 =     -79.871224154234 / Barycentric velocity (km/s), visit 3           \n",
       "SNRVIS3 =    293.7351492808242 / Median S/N per apStar pixel,, visit 3          \n",
       "FLAG3   =                  512 / STARFLAG for visit 3                           \n",
       "HISTORY APOGEE Reduction Pipeline Version: 0.17.22                              \n",
       "HISTORY HDU0 : header                                                           \n",
       "HISTORY HDU1 : flux                                                             \n",
       "HISTORY HDU2 : flux uncertainty                                                 \n",
       "HISTORY HDU3 : pixel bitmask                                                    \n",
       "HISTORY HDU4 : sky                                                              \n",
       "HISTORY HDU5 : sky uncertainty                                                  \n",
       "HISTORY HDU6 : telluric                                                         \n",
       "HISTORY HDU7 : telluric uncertainty                                             \n",
       "HISTORY HDU8 : LSF table                                                        \n",
       "HISTORY HDU9 : RV table                                                         \n",
       "HISTORY HDU10 : RV table for combined spectrum                                  "
      ]
     },
     "execution_count": 17,
     "metadata": {},
     "output_type": "execute_result"
    }
   ],
   "source": [
    "header"
   ]
  },
  {
   "cell_type": "code",
   "execution_count": 60,
   "metadata": {},
   "outputs": [
    {
     "data": {
      "text/plain": [
       "(6, 8575)"
      ]
     },
     "execution_count": 60,
     "metadata": {},
     "output_type": "execute_result"
    }
   ],
   "source": [
    "np.shape(data)"
   ]
  },
  {
   "cell_type": "code",
   "execution_count": 22,
   "metadata": {},
   "outputs": [
    {
     "data": {
      "text/plain": [
       "(5, 8575)"
      ]
     },
     "execution_count": 22,
     "metadata": {},
     "output_type": "execute_result"
    }
   ],
   "source": [
    "np.shape(data)"
   ]
  },
  {
   "cell_type": "code",
   "execution_count": 34,
   "metadata": {},
   "outputs": [
    {
     "data": {
      "text/plain": [
       "8"
      ]
     },
     "execution_count": 34,
     "metadata": {},
     "output_type": "execute_result"
    }
   ],
   "source": [
    "len(data)"
   ]
  },
  {
   "cell_type": "code",
   "execution_count": 61,
   "metadata": {},
   "outputs": [
    {
     "data": {
      "text/plain": [
       "7546"
      ]
     },
     "execution_count": 61,
     "metadata": {},
     "output_type": "execute_result"
    }
   ],
   "source": [
    "(bitmask[0]==0).sum()"
   ]
  },
  {
   "cell_type": "code",
   "execution_count": 63,
   "metadata": {},
   "outputs": [
    {
     "data": {
      "image/png": "[encoded data removed]",
      "text/plain": [
       "<Figure size 720x576 with 1 Axes>"
      ]
     },
     "metadata": {
      "needs_background": "light"
     },
     "output_type": "display_data"
    }
   ],
   "source": [
    "plt.figure(figsize=[10,8])\n",
    "plt.plot(np.arange(8575), data[0,:],'b')\n",
    "plt.plot(np.arange(8575)[bitmask[0]==0], data[0,bitmask[0]==0],'r')\n",
    "plt.xlim([1000,1100])\n",
    "plt.show()"
   ]
  },
  {
   "cell_type": "code",
   "execution_count": 67,
   "metadata": {},
   "outputs": [
    {
     "name": "stdout",
     "output_type": "stream",
     "text": [
      "[4.09419876 4.09227851 4.04864471 4.08854729 4.14720125 4.15751703\n",
      " 4.18826951 4.19204026 4.14200283 4.09480813 4.20329347 4.21281743\n",
      " 4.16618882 4.30717827 4.30593513 4.1691103  4.17230254 4.20059854\n",
      " 4.17902273 4.16782691 4.19513041 4.19083687 4.19826985 4.24873003\n",
      " 4.35164154 4.45718879 4.48455385 4.49859874 4.49306895 4.45956581\n",
      " 4.3825219  4.29862904 4.18465307 4.13017639 4.124902   4.12673922\n",
      " 4.13575532 4.13132844 4.14562132 4.15212918 4.1025939  4.08363228\n",
      " 4.0656681  4.11131741 4.24066112 4.28817599 4.46041037 4.71723264\n",
      " 4.74210506 4.68917829 4.64591486 4.50580417 4.44397822 4.44892404\n",
      " 4.52686459 4.62298327 4.60172704 4.61149826 4.70116937 4.7683305\n",
      " 4.8141604  5.15055635 5.25315225 4.93305347 4.80071612 4.7183845\n",
      " 4.68666241 4.43345371 4.14083821 4.03787325 3.98109427 4.0169323\n",
      " 4.06168404 4.12291164 4.16405357 4.27769341 4.40827268 4.40647591\n",
      " 4.32995086 4.31125753 4.31251227 4.34252519 4.41350397 4.50645241\n",
      " 4.62058001 4.68691266 4.90966356 5.61330747 5.61461378 5.42567155\n",
      " 5.54090487 5.64233206 5.63447937 5.62772063 5.62817873 5.56010498\n",
      " 5.34278286 5.12716054 5.00487109 4.7354524 ]\n",
      "[0 0 0 0 0 0 0 0 0 0 0 0 0 0 0 0 0 0 0 0 0 0 0 0 0 0 0 0 0 0 0 0 0 0 0 0 0\n",
      " 0 0 0 0 0 0 0 0 0 0 0 0 0 0 0 0 0 0 0 0 0 0 0 0 0 0 0 0 0 0 0 0 0 0 0 0 0\n",
      " 0 0 0 0 0 0 0 0 0 0 0 0 0 0 0 0 0 0 0 0 0 0 0 0 0 0]\n",
      "[0 0 0 0 0 0 0 0 0 0 0 0 0 0 0 0 0 0 0 0 0 0 0 0 0 0 0 0 0 0 0 0 0 0 0 0 0\n",
      " 0 0 0 0 0 0 0 0 0 0 0 0 0 0 0 0 0 0 0 0 0 0 0 0 0 0 0 0 0 0 0 0 0 0 0 0 0\n",
      " 0 0 0 0 0 0 0 0 0 0 0 0 0 0 0 0 0 0 0 0 0 0 0 0 0 0]\n"
     ]
    }
   ],
   "source": [
    "print(noise[0,1000:1100])\n",
    "print(bitmask[0,1000:1100])\n",
    "print(bitmask[0,1000:1100])"
   ]
  },
  {
   "cell_type": "code",
   "execution_count": 62,
   "metadata": {},
   "outputs": [
    {
     "data": {
      "image/png": "[encoded data removed]",
      "text/plain": [
       "<Figure size 720x576 with 1 Axes>"
      ]
     },
     "metadata": {
      "needs_background": "light"
     },
     "output_type": "display_data"
    }
   ],
   "source": [
    "plt.figure(figsize=[10,8])\n",
    "plt.plot(np.arange(8575), data[0,:],'b')\n",
    "plt.plot(np.arange(8575)[bitmask[0]==0], data[0,bitmask[0]==0],'r')\n",
    "plt.show()"
   ]
  },
  {
   "cell_type": "code",
   "execution_count": 65,
   "metadata": {},
   "outputs": [
    {
     "name": "stdout",
     "output_type": "stream",
     "text": [
      "[1807.84640215 1800.78391951 1775.76647459 1773.55303322 1777.28163182\n",
      " 1769.54925303 1753.06043949 1716.53096926 1706.06581412 1739.94900447\n",
      " 1760.54079331 1750.47597728 1704.36286181 1596.08363396 1470.14520321\n",
      " 1406.3617845  1417.14418512 1471.81154969 1517.84310117 1513.78354064\n",
      " 1503.15711207 1553.63446929 1656.92053852 1740.52971129 1769.28401832\n",
      " 1766.33755082 1761.02692949 1777.13522111 1813.15576527 1842.72582203\n",
      " 1846.03318783 1842.77210982 1831.35151763 1780.15707866 1671.73780423\n",
      " 1499.58476037 1299.58994253 1150.56147815 1095.07340645 1099.21594839\n",
      " 1096.24217577 1076.78073958 1071.0845861  1085.36515165 1133.69145616\n",
      " 1225.29307274 1316.66553688 1362.09966997 1371.90851216 1391.01047319]\n"
     ]
    }
   ],
   "source": [
    "print(data[0,5000:5050])"
   ]
  },
  {
   "cell_type": "code",
   "execution_count": 66,
   "metadata": {},
   "outputs": [
    {
     "name": "stdout",
     "output_type": "stream",
     "text": [
      "[3.87703791 4.00406954 4.07513508 4.162717   4.35426194 4.48940274\n",
      " 4.52958191 4.52976239 4.56924215 4.56834609 4.59323996 4.59302573\n",
      " 4.56243491 4.42591163 4.27921894 4.18988461 4.18559752 4.22869429\n",
      " 4.27657389 4.29025295 4.27899112 4.23293853 4.14335615 4.12119056\n",
      " 4.01538121 3.7891334  3.60259428 3.56768397 3.47572187 3.49615467\n",
      " 3.49405184 3.48122397 3.47007537 3.41656804 3.30558083 3.15052067\n",
      " 2.97404439 2.83220038 2.76342952 2.75468242 2.74691195 2.73088617\n",
      " 2.72654765 2.74651539 2.80072082 2.90020949 2.99457518 3.03636593\n",
      " 3.0586132  3.09603335]\n"
     ]
    }
   ],
   "source": [
    "print(noise[0,5000:5050])"
   ]
  },
  {
   "cell_type": "code",
   "execution_count": null,
   "metadata": {},
   "outputs": [],
   "source": []
  }
 ],
 "metadata": {
  "kernelspec": {
   "display_name": "Python 3",
   "language": "python",
   "name": "python3"
  },
  "language_info": {
   "codemirror_mode": {
    "name": "ipython",
    "version": 3
   },
   "file_extension": ".py",
   "mimetype": "text/x-python",
   "name": "python",
   "nbconvert_exporter": "python",
   "pygments_lexer": "ipython3",
   "version": "3.7.6"
  }
 },
 "nbformat": 4,
 "nbformat_minor": 4
}
