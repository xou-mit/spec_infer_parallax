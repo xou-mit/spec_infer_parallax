{
 "cells": [
  {
   "cell_type": "code",
   "execution_count": 28,
   "metadata": {},
   "outputs": [],
   "source": [
    "# Compare how many more disk giant stars are there in APOGEE DR17\n",
    "import astropy\n",
    "from astropy.table import Table\n",
    "import numpy as np\n",
    "import pandas as pd\n",
    "import h5py\n",
    "\n",
    "import astropy.units as u\n",
    "from astropy.coordinates import SkyCoord\n",
    "from astropy.io import ascii, fits\n",
    "\n",
    "import matplotlib\n",
    "import matplotlib.pyplot as plt\n",
    "label_size = 24\n",
    "matplotlib.rc('font', size=label_size) "
   ]
  },
  {
   "cell_type": "code",
   "execution_count": 15,
   "metadata": {},
   "outputs": [],
   "source": [
    "# import full APOGEE DR17 data\n",
    "tab = Table.read('../../Fa2020_MW_substructure/data/allStarLite-dr17-synspec_rev1.fits',1)\n",
    "names = [name for name in tab.colnames if len(tab[name].shape) <= 1]\n",
    "df_a17 = tab[names].to_pandas()"
   ]
  },
  {
   "cell_type": "code",
   "execution_count": 3,
   "metadata": {},
   "outputs": [],
   "source": [
    "# import astroNN DR17 data\n",
    "# tab = Table.read('../../Fa2020_MW_substructure/data/apogee_astroNN-DR17.fits')\n",
    "# names = [name for name in tab.colnames if len(tab[name].shape) <= 1]\n",
    "# df_aNN17 = tab[names].to_pandas()"
   ]
  },
  {
   "cell_type": "code",
   "execution_count": 8,
   "metadata": {},
   "outputs": [
    {
     "name": "stdout",
     "output_type": "stream",
     "text": [
      "Total number of targets in DR17: 733901\n",
      "removing repeated sources gives 657135 stars.\n",
      "log g cut based on APOGEE values gives 159766 stars.\n",
      "requirement for gaia plx gives 720894 stars.\n",
      "all cuts together give 146751 stars.\n"
     ]
    }
   ],
   "source": [
    "# Apply the cuts on the astroNN DR17 data\n",
    "print(f\"Total number of targets in DR17: {len(df_a17)}\")\n",
    "\n",
    "# Get rid of repeated sources\n",
    "badbits = 2**4\n",
    "qual_a17 = np.bitwise_and(df_a17['EXTRATARG'],badbits) == 0\n",
    "print(f\"removing repeated sources gives {qual_a17.sum()} stars.\")\n",
    "\n",
    "# Low log g cut\n",
    "low_grav_a17 = (df_a17['LOGG'] > 0) & (df_a17['LOGG'] < 2.2)\n",
    "print(f\"log g cut based on APOGEE values gives {low_grav_a17.sum()} stars.\")\n",
    "\n",
    "# Must have gaia parallax\n",
    "gaia_plx_a17 = (np.isfinite(df_a17['GAIAEDR3_PARALLAX']))\n",
    "print(f\"requirement for gaia plx gives {gaia_plx_a17.sum()} stars.\")\n",
    "\n",
    "# Put everything together\n",
    "allcut_a17 = qual_a17 & low_grav_a17 & gaia_plx_a17\n",
    "print(f\"all cuts together give {allcut_a17.sum()} stars.\")"
   ]
  },
  {
   "cell_type": "code",
   "execution_count": 63,
   "metadata": {},
   "outputs": [
    {
     "data": {
      "text/plain": [
       "b'apo25m'    84355\n",
       "b'lco25m'    62217\n",
       "b'apo1m'       179\n",
       "Name: TELESCOPE, dtype: int64"
      ]
     },
     "execution_count": 63,
     "metadata": {},
     "output_type": "execute_result"
    }
   ],
   "source": [
    "df_a17.loc[allcut_a17,'TELESCOPE'].value_counts()"
   ]
  },
  {
   "cell_type": "code",
   "execution_count": 17,
   "metadata": {},
   "outputs": [
    {
     "data": {
      "text/plain": [
       "191"
      ]
     },
     "execution_count": 17,
     "metadata": {},
     "output_type": "execute_result"
    }
   ],
   "source": [
    "len(tab.colnames)"
   ]
  },
  {
   "cell_type": "code",
   "execution_count": 61,
   "metadata": {},
   "outputs": [],
   "source": [
    "# Export the gaia source ids of these stars for later query for WISE photometry\n",
    "df_a17.loc[:,['APOGEE_ID','GAIAEDR3_SOURCE_ID']].to_csv('a17_all_aid_g3id.csv',index=False)\n",
    "# df_a17.loc[allcut_a17,['APOGEE_ID','GAIAEDR3_SOURCE_ID']].to_csv('a17_candidate_aid_g3id.csv',index=False)"
   ]
  },
  {
   "cell_type": "code",
   "execution_count": 29,
   "metadata": {},
   "outputs": [],
   "source": [
    "hdu = fits.open('../spec_download_norm/data/spec_plx_a17cand_allwise_match.fits')\n",
    "wise_data = hdu[1].data\n",
    "hdu.close()"
   ]
  },
  {
   "cell_type": "code",
   "execution_count": 40,
   "metadata": {},
   "outputs": [],
   "source": [
    "wise_data = Table.read('../spec_download_norm/data/spec_plx_a17cand_allwise_match.fits',1)"
   ]
  },
  {
   "cell_type": "code",
   "execution_count": 41,
   "metadata": {},
   "outputs": [
    {
     "data": {
      "text/plain": [
       "(146751,)"
      ]
     },
     "execution_count": 41,
     "metadata": {},
     "output_type": "execute_result"
    }
   ],
   "source": [
    "np.shape(wise_data)"
   ]
  },
  {
   "cell_type": "code",
   "execution_count": 45,
   "metadata": {},
   "outputs": [
    {
     "data": {
      "text/html": [
       "<i>Table masked=True length=146751</i>\n",
       "<table id=\"table140455290560016\" class=\"table-striped table-bordered table-condensed\">\n",
       "<thead><tr><th>apogee_id</th><th>source_id</th><th>original_ext_source_id</th><th>angular_distance</th><th>xm_flag</th><th>allwise_oid</th><th>number_of_neighbours</th><th>number_of_mates</th><th>designation</th><th>w1mpro</th><th>w2mpro</th><th>w3mpro</th><th>w4mpro</th><th>var_flag</th></tr></thead>\n",
       "<thead><tr><th></th><th></th><th></th><th>arcsec</th><th></th><th></th><th></th><th></th><th></th><th>mag</th><th>mag</th><th>mag</th><th>mag</th><th></th></tr></thead>\n",
       "<thead><tr><th>bytes21</th><th>int64</th><th>bytes255</th><th>float32</th><th>int16</th><th>int32</th><th>int16</th><th>int16</th><th>bytes19</th><th>float64</th><th>float64</th><th>float64</th><th>float64</th><th>bytes4</th></tr></thead>\n",
       "<tr><td>b&apos;2M00000002+7417074&apos;</td><td>538028216707715712</td><td>J000000.04+741707.5</td><td>0.0262377</td><td>8</td><td>733278841</td><td>1</td><td>0</td><td>J000000.04+741707.5</td><td>7.257</td><td>7.353</td><td>7.148</td><td>6.992</td><td>3110</td></tr>\n",
       "<tr><td>b&apos;2M00000035-7323394&apos;</td><td>--</td><td></td><td>nan</td><td>--</td><td>--</td><td>--</td><td>--</td><td></td><td>nan</td><td>nan</td><td>nan</td><td>nan</td><td></td></tr>\n",
       "<tr><td>b&apos;2M00000317+5821383&apos;</td><td>422737314373993984</td><td>J000003.17+582138.3</td><td>0.032791663</td><td>8</td><td>689699320</td><td>1</td><td>0</td><td>J000003.17+582138.3</td><td>6.804</td><td>6.951</td><td>6.817</td><td>6.7</td><td>2200</td></tr>\n",
       "<tr><td>b&apos;2M00000546+6152107&apos;</td><td>429530195985183744</td><td>J000005.49+615210.7</td><td>0.10692527</td><td>8</td><td>701716063</td><td>1</td><td>0</td><td>J000005.49+615210.7</td><td>7.523</td><td>7.682</td><td>7.568</td><td>7.633</td><td>220n</td></tr>\n",
       "<tr><td>b&apos;2M00000717-7213573&apos;</td><td>4701763512829847808</td><td>J000007.17-721357.2</td><td>0.04410313</td><td>8</td><td>20002330</td><td>1</td><td>0</td><td>J000007.17-721357.2</td><td>14.342</td><td>14.443</td><td>12.503</td><td>8.553</td><td>00nn</td></tr>\n",
       "<tr><td>b&apos;2M00000797+6436119&apos;</td><td>431771039351005184</td><td>J000007.99+643612.0</td><td>0.047733244</td><td>8</td><td>710201285</td><td>1</td><td>0</td><td>J000007.99+643612.0</td><td>11.253</td><td>11.25</td><td>11.245</td><td>9.571</td><td>99nn</td></tr>\n",
       "<tr><td>b&apos;2M00001493+5534446&apos;</td><td>420513826985325696</td><td>J000014.93+553444.6</td><td>0.048711292</td><td>8</td><td>679145295</td><td>1</td><td>0</td><td>J000014.93+553444.6</td><td>9.168</td><td>9.314</td><td>9.125</td><td>8.655</td><td>011n</td></tr>\n",
       "<tr><td>b&apos;2M00001649-7342309&apos;</td><td>4689378643918560128</td><td>J000016.49-734230.9</td><td>0.11712436</td><td>8</td><td>16683775</td><td>1</td><td>0</td><td>J000016.49-734230.9</td><td>14.58</td><td>14.648</td><td>12.556</td><td>9.187</td><td>00nn</td></tr>\n",
       "<tr><td>b&apos;2M00001653+5540107&apos;</td><td>--</td><td></td><td>nan</td><td>--</td><td>--</td><td>--</td><td>--</td><td></td><td>nan</td><td>nan</td><td>nan</td><td>nan</td><td></td></tr>\n",
       "<tr><td>...</td><td>...</td><td>...</td><td>...</td><td>...</td><td>...</td><td>...</td><td>...</td><td>...</td><td>...</td><td>...</td><td>...</td><td>...</td><td>...</td></tr>\n",
       "<tr><td>b&apos;2M23595453+5618262&apos;</td><td>1994790864784702720</td><td>J235954.53+561826.3</td><td>0.06288363</td><td>8</td><td>681991870</td><td>1</td><td>0</td><td>J235954.53+561826.3</td><td>8.99</td><td>9.082</td><td>8.958</td><td>8.576</td><td>000n</td></tr>\n",
       "<tr><td>b&apos;2M23595484+5711289&apos;</td><td>1995077008382180352</td><td>J235954.84+571128.8</td><td>0.056472324</td><td>8</td><td>685371186</td><td>1</td><td>0</td><td>J235954.84+571128.8</td><td>8.639</td><td>8.759</td><td>8.553</td><td>8.594</td><td>011n</td></tr>\n",
       "<tr><td>b&apos;2M23595526+7511338&apos;</td><td>2229276283631858688</td><td>J235955.28+751133.8</td><td>0.048651773</td><td>8</td><td>734873943</td><td>1</td><td>0</td><td>J235955.28+751133.8</td><td>10.779</td><td>10.945</td><td>10.783</td><td>9.089</td><td>110n</td></tr>\n",
       "<tr><td>b&apos;2M23595538+6442561&apos;</td><td>2016468767318259712</td><td>J235955.35+644256.1</td><td>0.10679868</td><td>8</td><td>710530080</td><td>1</td><td>0</td><td>J235955.35+644256.1</td><td>8.681</td><td>8.741</td><td>8.537</td><td>7.949</td><td>000n</td></tr>\n",
       "<tr><td>b&apos;2M23595550+6402572&apos;</td><td>2016199730570963968</td><td>J235955.50+640257.2</td><td>0.07447226</td><td>8</td><td>708542727</td><td>1</td><td>0</td><td>J235955.50+640257.2</td><td>10.705</td><td>10.757</td><td>10.378</td><td>9.151</td><td>000n</td></tr>\n",
       "<tr><td>b&apos;2M23595606+6251121&apos;</td><td>2013020767578111360</td><td>J235956.07+625112.1</td><td>0.0641589</td><td>8</td><td>704854410</td><td>1</td><td>0</td><td>J235956.07+625112.1</td><td>9.638</td><td>9.743</td><td>9.569</td><td>9.332</td><td>010n</td></tr>\n",
       "<tr><td>b&apos;2M23595637-7223071&apos;</td><td>6380099464951165952</td><td>J235956.38-722307.1</td><td>0.06366601</td><td>8</td><td>19642572</td><td>1</td><td>0</td><td>J235956.38-722307.1</td><td>13.376</td><td>13.487</td><td>12.651</td><td>8.762</td><td>00nn</td></tr>\n",
       "<tr><td>b&apos;2M23595676+7918072&apos;</td><td>2282127264957087872</td><td>J235956.78+791807.1</td><td>0.010934908</td><td>8</td><td>740929221</td><td>1</td><td>0</td><td>J235956.78+791807.1</td><td>8.844</td><td>8.952</td><td>8.793</td><td>8.864</td><td>110n</td></tr>\n",
       "<tr><td>b&apos;2M23595867-7339039&apos;</td><td>6379920759951899648</td><td>J235958.67-733904.1</td><td>0.012196099</td><td>8</td><td>16807049</td><td>1</td><td>0</td><td>J235958.67-733904.1</td><td>14.981</td><td>15.075</td><td>12.6</td><td>9.146</td><td>00nn</td></tr>\n",
       "<tr><td>b&apos;2M23595949-7342592&apos;</td><td>6379914575198998272</td><td>J235959.48-734259.2</td><td>0.06563213</td><td>8</td><td>16666878</td><td>1</td><td>0</td><td>J235959.48-734259.2</td><td>15.032</td><td>15.119</td><td>13.027</td><td>9.164</td><td>11nn</td></tr>\n",
       "</table>"
      ],
      "text/plain": [
       "<Table masked=True length=146751>\n",
       "      apogee_id            source_id      ...  w4mpro var_flag\n",
       "                                          ...   mag           \n",
       "       bytes21               int64        ... float64  bytes4 \n",
       "--------------------- ------------------- ... ------- --------\n",
       "b'2M00000002+7417074'  538028216707715712 ...   6.992     3110\n",
       "b'2M00000035-7323394'                  -- ...     nan         \n",
       "b'2M00000317+5821383'  422737314373993984 ...     6.7     2200\n",
       "b'2M00000546+6152107'  429530195985183744 ...   7.633     220n\n",
       "b'2M00000717-7213573' 4701763512829847808 ...   8.553     00nn\n",
       "b'2M00000797+6436119'  431771039351005184 ...   9.571     99nn\n",
       "b'2M00001493+5534446'  420513826985325696 ...   8.655     011n\n",
       "b'2M00001649-7342309' 4689378643918560128 ...   9.187     00nn\n",
       "b'2M00001653+5540107'                  -- ...     nan         \n",
       "                  ...                 ... ...     ...      ...\n",
       "b'2M23595453+5618262' 1994790864784702720 ...   8.576     000n\n",
       "b'2M23595484+5711289' 1995077008382180352 ...   8.594     011n\n",
       "b'2M23595526+7511338' 2229276283631858688 ...   9.089     110n\n",
       "b'2M23595538+6442561' 2016468767318259712 ...   7.949     000n\n",
       "b'2M23595550+6402572' 2016199730570963968 ...   9.151     000n\n",
       "b'2M23595606+6251121' 2013020767578111360 ...   9.332     010n\n",
       "b'2M23595637-7223071' 6380099464951165952 ...   8.762     00nn\n",
       "b'2M23595676+7918072' 2282127264957087872 ...   8.864     110n\n",
       "b'2M23595867-7339039' 6379920759951899648 ...   9.146     00nn\n",
       "b'2M23595949-7342592' 6379914575198998272 ...   9.164     11nn"
      ]
     },
     "execution_count": 45,
     "metadata": {},
     "output_type": "execute_result"
    }
   ],
   "source": [
    "wise_data"
   ]
  },
  {
   "cell_type": "code",
   "execution_count": 46,
   "metadata": {},
   "outputs": [],
   "source": [
    "wise_data.rename_column('apogee_id','APOGEE_ID')"
   ]
  },
  {
   "cell_type": "code",
   "execution_count": 49,
   "metadata": {},
   "outputs": [
    {
     "data": {
      "text/html": [
       "&lt;MaskedColumn name=&apos;APOGEE_ID&apos; dtype=&apos;bytes21&apos; length=146751&gt;\n",
       "<table>\n",
       "<tr><td>b&apos;2M00000002+7417074&apos;</td></tr>\n",
       "<tr><td>b&apos;2M00000035-7323394&apos;</td></tr>\n",
       "<tr><td>b&apos;2M00000317+5821383&apos;</td></tr>\n",
       "<tr><td>b&apos;2M00000546+6152107&apos;</td></tr>\n",
       "<tr><td>b&apos;2M00000717-7213573&apos;</td></tr>\n",
       "<tr><td>b&apos;2M00000797+6436119&apos;</td></tr>\n",
       "<tr><td>b&apos;2M00001493+5534446&apos;</td></tr>\n",
       "<tr><td>b&apos;2M00001649-7342309&apos;</td></tr>\n",
       "<tr><td>b&apos;2M00001653+5540107&apos;</td></tr>\n",
       "<tr><td>b&apos;2M00001719+6221324&apos;</td></tr>\n",
       "<tr><td>b&apos;2M00002005+5703467&apos;</td></tr>\n",
       "<tr><td>b&apos;2M00002036+6153416&apos;</td></tr>\n",
       "<tr><td>...</td></tr>\n",
       "<tr><td>b&apos;2M23594955+1529189&apos;</td></tr>\n",
       "<tr><td>b&apos;2M23595282+5601482&apos;</td></tr>\n",
       "<tr><td>b&apos;2M23595453+5618262&apos;</td></tr>\n",
       "<tr><td>b&apos;2M23595484+5711289&apos;</td></tr>\n",
       "<tr><td>b&apos;2M23595526+7511338&apos;</td></tr>\n",
       "<tr><td>b&apos;2M23595538+6442561&apos;</td></tr>\n",
       "<tr><td>b&apos;2M23595550+6402572&apos;</td></tr>\n",
       "<tr><td>b&apos;2M23595606+6251121&apos;</td></tr>\n",
       "<tr><td>b&apos;2M23595637-7223071&apos;</td></tr>\n",
       "<tr><td>b&apos;2M23595676+7918072&apos;</td></tr>\n",
       "<tr><td>b&apos;2M23595867-7339039&apos;</td></tr>\n",
       "<tr><td>b&apos;2M23595949-7342592&apos;</td></tr>\n",
       "</table>"
      ],
      "text/plain": [
       "<MaskedColumn name='APOGEE_ID' dtype='bytes21' length=146751>\n",
       "b'2M00000002+7417074'\n",
       "b'2M00000035-7323394'\n",
       "b'2M00000317+5821383'\n",
       "b'2M00000546+6152107'\n",
       "b'2M00000717-7213573'\n",
       "b'2M00000797+6436119'\n",
       "b'2M00001493+5534446'\n",
       "b'2M00001649-7342309'\n",
       "b'2M00001653+5540107'\n",
       "b'2M00001719+6221324'\n",
       "b'2M00002005+5703467'\n",
       "b'2M00002036+6153416'\n",
       "                  ...\n",
       "b'2M23594955+1529189'\n",
       "b'2M23595282+5601482'\n",
       "b'2M23595453+5618262'\n",
       "b'2M23595484+5711289'\n",
       "b'2M23595526+7511338'\n",
       "b'2M23595538+6442561'\n",
       "b'2M23595550+6402572'\n",
       "b'2M23595606+6251121'\n",
       "b'2M23595637-7223071'\n",
       "b'2M23595676+7918072'\n",
       "b'2M23595867-7339039'\n",
       "b'2M23595949-7342592'"
      ]
     },
     "execution_count": 49,
     "metadata": {},
     "output_type": "execute_result"
    }
   ],
   "source": [
    "wise_data['APOGEE_ID']"
   ]
  },
  {
   "cell_type": "code",
   "execution_count": 50,
   "metadata": {},
   "outputs": [
    {
     "data": {
      "text/plain": [
       "1         b'2M00000002+7417074'\n",
       "5         b'2M00000035-7323394'\n",
       "12        b'2M00000317+5821383'\n",
       "19        b'2M00000546+6152107'\n",
       "24        b'2M00000717-7213573'\n",
       "                  ...          \n",
       "733887    b'2M23595606+6251121'\n",
       "733888    b'2M23595637-7223071'\n",
       "733891    b'2M23595676+7918072'\n",
       "733895    b'2M23595867-7339039'\n",
       "733899    b'2M23595949-7342592'\n",
       "Name: APOGEE_ID, Length: 146751, dtype: object"
      ]
     },
     "execution_count": 50,
     "metadata": {},
     "output_type": "execute_result"
    }
   ],
   "source": [
    "df_a17.loc[allcut_a17,'APOGEE_ID']"
   ]
  },
  {
   "cell_type": "code",
   "execution_count": 55,
   "metadata": {},
   "outputs": [
    {
     "name": "stdout",
     "output_type": "stream",
     "text": [
      "b'2M00000002+7417074' b'2M00000002+7417074'\n",
      "b'2M00000002+7417074' b'2M00000002+7417074'\n",
      "False\n",
      "538028216707715712 538028216707715712\n",
      "True\n"
     ]
    }
   ],
   "source": [
    "ii= 0\n",
    "print(wise_data['APOGEE_ID'][ii], df_a17.loc[allcut_a17,'APOGEE_ID'].values[ii])\n",
    "print(wise_data['APOGEE_ID'][ii] == df_a17.loc[allcut_a17,'APOGEE_ID'].values[ii])\n",
    "print(wise_data['source_id'][ii], df_a17.loc[allcut_a17,'GAIAEDR3_SOURCE_ID'].values[ii])\n",
    "print(wise_data['source_id'][ii] == df_a17.loc[allcut_a17,'GAIAEDR3_SOURCE_ID'].values[ii])"
   ]
  },
  {
   "cell_type": "code",
   "execution_count": 57,
   "metadata": {},
   "outputs": [
    {
     "name": "stdout",
     "output_type": "stream",
     "text": [
      "-- --\n"
     ]
    }
   ],
   "source": [
    "print(wise_data['source_id'][1], np.isfinite(wise_data['source_id'][1]))"
   ]
  },
  {
   "cell_type": "code",
   "execution_count": 58,
   "metadata": {},
   "outputs": [
    {
     "data": {
      "text/plain": [
       "array([False,  True, False, ..., False, False, False])"
      ]
     },
     "execution_count": 58,
     "metadata": {},
     "output_type": "execute_result"
    }
   ],
   "source": [
    "wise_data['source_id'].mask"
   ]
  },
  {
   "cell_type": "code",
   "execution_count": 60,
   "metadata": {},
   "outputs": [
    {
     "data": {
      "text/html": [
       "<i>Table masked=True length=126443</i>\n",
       "<table id=\"table140447506826960\" class=\"table-striped table-bordered table-condensed\">\n",
       "<thead><tr><th>APOGEE_ID</th><th>source_id</th><th>original_ext_source_id</th><th>angular_distance</th><th>xm_flag</th><th>allwise_oid</th><th>number_of_neighbours</th><th>number_of_mates</th><th>designation</th><th>w1mpro</th><th>w2mpro</th><th>w3mpro</th><th>w4mpro</th><th>var_flag</th></tr></thead>\n",
       "<thead><tr><th></th><th></th><th></th><th>arcsec</th><th></th><th></th><th></th><th></th><th></th><th>mag</th><th>mag</th><th>mag</th><th>mag</th><th></th></tr></thead>\n",
       "<thead><tr><th>bytes21</th><th>int64</th><th>bytes255</th><th>float32</th><th>int16</th><th>int32</th><th>int16</th><th>int16</th><th>bytes19</th><th>float64</th><th>float64</th><th>float64</th><th>float64</th><th>bytes4</th></tr></thead>\n",
       "<tr><td>b&apos;2M00000002+7417074&apos;</td><td>538028216707715712</td><td>J000000.04+741707.5</td><td>0.0262377</td><td>8</td><td>733278841</td><td>1</td><td>0</td><td>J000000.04+741707.5</td><td>7.257</td><td>7.353</td><td>7.148</td><td>6.992</td><td>3110</td></tr>\n",
       "<tr><td>b&apos;2M00000317+5821383&apos;</td><td>422737314373993984</td><td>J000003.17+582138.3</td><td>0.032791663</td><td>8</td><td>689699320</td><td>1</td><td>0</td><td>J000003.17+582138.3</td><td>6.804</td><td>6.951</td><td>6.817</td><td>6.7</td><td>2200</td></tr>\n",
       "<tr><td>b&apos;2M00000546+6152107&apos;</td><td>429530195985183744</td><td>J000005.49+615210.7</td><td>0.10692527</td><td>8</td><td>701716063</td><td>1</td><td>0</td><td>J000005.49+615210.7</td><td>7.523</td><td>7.682</td><td>7.568</td><td>7.633</td><td>220n</td></tr>\n",
       "<tr><td>b&apos;2M00000717-7213573&apos;</td><td>4701763512829847808</td><td>J000007.17-721357.2</td><td>0.04410313</td><td>8</td><td>20002330</td><td>1</td><td>0</td><td>J000007.17-721357.2</td><td>14.342</td><td>14.443</td><td>12.503</td><td>8.553</td><td>00nn</td></tr>\n",
       "<tr><td>b&apos;2M00000797+6436119&apos;</td><td>431771039351005184</td><td>J000007.99+643612.0</td><td>0.047733244</td><td>8</td><td>710201285</td><td>1</td><td>0</td><td>J000007.99+643612.0</td><td>11.253</td><td>11.25</td><td>11.245</td><td>9.571</td><td>99nn</td></tr>\n",
       "<tr><td>b&apos;2M00001493+5534446&apos;</td><td>420513826985325696</td><td>J000014.93+553444.6</td><td>0.048711292</td><td>8</td><td>679145295</td><td>1</td><td>0</td><td>J000014.93+553444.6</td><td>9.168</td><td>9.314</td><td>9.125</td><td>8.655</td><td>011n</td></tr>\n",
       "<tr><td>b&apos;2M00001649-7342309&apos;</td><td>4689378643918560128</td><td>J000016.49-734230.9</td><td>0.11712436</td><td>8</td><td>16683775</td><td>1</td><td>0</td><td>J000016.49-734230.9</td><td>14.58</td><td>14.648</td><td>12.556</td><td>9.187</td><td>00nn</td></tr>\n",
       "<tr><td>b&apos;2M00001719+6221324&apos;</td><td>429941795599771136</td><td>J000017.19+622132.4</td><td>0.011615241</td><td>8</td><td>703285472</td><td>1</td><td>0</td><td>J000017.19+622132.4</td><td>8.957</td><td>9.052</td><td>8.529</td><td>7.194</td><td>1100</td></tr>\n",
       "<tr><td>b&apos;2M00002005+5703467&apos;</td><td>421075230750327040</td><td>J000020.04+570346.6</td><td>0.023926098</td><td>8</td><td>684884882</td><td>1</td><td>0</td><td>J000020.04+570346.6</td><td>9.469</td><td>9.559</td><td>9.393</td><td>9.483</td><td>000n</td></tr>\n",
       "<tr><td>...</td><td>...</td><td>...</td><td>...</td><td>...</td><td>...</td><td>...</td><td>...</td><td>...</td><td>...</td><td>...</td><td>...</td><td>...</td><td>...</td></tr>\n",
       "<tr><td>b&apos;2M23595453+5618262&apos;</td><td>1994790864784702720</td><td>J235954.53+561826.3</td><td>0.06288363</td><td>8</td><td>681991870</td><td>1</td><td>0</td><td>J235954.53+561826.3</td><td>8.99</td><td>9.082</td><td>8.958</td><td>8.576</td><td>000n</td></tr>\n",
       "<tr><td>b&apos;2M23595484+5711289&apos;</td><td>1995077008382180352</td><td>J235954.84+571128.8</td><td>0.056472324</td><td>8</td><td>685371186</td><td>1</td><td>0</td><td>J235954.84+571128.8</td><td>8.639</td><td>8.759</td><td>8.553</td><td>8.594</td><td>011n</td></tr>\n",
       "<tr><td>b&apos;2M23595526+7511338&apos;</td><td>2229276283631858688</td><td>J235955.28+751133.8</td><td>0.048651773</td><td>8</td><td>734873943</td><td>1</td><td>0</td><td>J235955.28+751133.8</td><td>10.779</td><td>10.945</td><td>10.783</td><td>9.089</td><td>110n</td></tr>\n",
       "<tr><td>b&apos;2M23595538+6442561&apos;</td><td>2016468767318259712</td><td>J235955.35+644256.1</td><td>0.10679868</td><td>8</td><td>710530080</td><td>1</td><td>0</td><td>J235955.35+644256.1</td><td>8.681</td><td>8.741</td><td>8.537</td><td>7.949</td><td>000n</td></tr>\n",
       "<tr><td>b&apos;2M23595550+6402572&apos;</td><td>2016199730570963968</td><td>J235955.50+640257.2</td><td>0.07447226</td><td>8</td><td>708542727</td><td>1</td><td>0</td><td>J235955.50+640257.2</td><td>10.705</td><td>10.757</td><td>10.378</td><td>9.151</td><td>000n</td></tr>\n",
       "<tr><td>b&apos;2M23595606+6251121&apos;</td><td>2013020767578111360</td><td>J235956.07+625112.1</td><td>0.0641589</td><td>8</td><td>704854410</td><td>1</td><td>0</td><td>J235956.07+625112.1</td><td>9.638</td><td>9.743</td><td>9.569</td><td>9.332</td><td>010n</td></tr>\n",
       "<tr><td>b&apos;2M23595637-7223071&apos;</td><td>6380099464951165952</td><td>J235956.38-722307.1</td><td>0.06366601</td><td>8</td><td>19642572</td><td>1</td><td>0</td><td>J235956.38-722307.1</td><td>13.376</td><td>13.487</td><td>12.651</td><td>8.762</td><td>00nn</td></tr>\n",
       "<tr><td>b&apos;2M23595676+7918072&apos;</td><td>2282127264957087872</td><td>J235956.78+791807.1</td><td>0.010934908</td><td>8</td><td>740929221</td><td>1</td><td>0</td><td>J235956.78+791807.1</td><td>8.844</td><td>8.952</td><td>8.793</td><td>8.864</td><td>110n</td></tr>\n",
       "<tr><td>b&apos;2M23595867-7339039&apos;</td><td>6379920759951899648</td><td>J235958.67-733904.1</td><td>0.012196099</td><td>8</td><td>16807049</td><td>1</td><td>0</td><td>J235958.67-733904.1</td><td>14.981</td><td>15.075</td><td>12.6</td><td>9.146</td><td>00nn</td></tr>\n",
       "<tr><td>b&apos;2M23595949-7342592&apos;</td><td>6379914575198998272</td><td>J235959.48-734259.2</td><td>0.06563213</td><td>8</td><td>16666878</td><td>1</td><td>0</td><td>J235959.48-734259.2</td><td>15.032</td><td>15.119</td><td>13.027</td><td>9.164</td><td>11nn</td></tr>\n",
       "</table>"
      ],
      "text/plain": [
       "<Table masked=True length=126443>\n",
       "      APOGEE_ID            source_id      ...  w4mpro var_flag\n",
       "                                          ...   mag           \n",
       "       bytes21               int64        ... float64  bytes4 \n",
       "--------------------- ------------------- ... ------- --------\n",
       "b'2M00000002+7417074'  538028216707715712 ...   6.992     3110\n",
       "b'2M00000317+5821383'  422737314373993984 ...     6.7     2200\n",
       "b'2M00000546+6152107'  429530195985183744 ...   7.633     220n\n",
       "b'2M00000717-7213573' 4701763512829847808 ...   8.553     00nn\n",
       "b'2M00000797+6436119'  431771039351005184 ...   9.571     99nn\n",
       "b'2M00001493+5534446'  420513826985325696 ...   8.655     011n\n",
       "b'2M00001649-7342309' 4689378643918560128 ...   9.187     00nn\n",
       "b'2M00001719+6221324'  429941795599771136 ...   7.194     1100\n",
       "b'2M00002005+5703467'  421075230750327040 ...   9.483     000n\n",
       "                  ...                 ... ...     ...      ...\n",
       "b'2M23595453+5618262' 1994790864784702720 ...   8.576     000n\n",
       "b'2M23595484+5711289' 1995077008382180352 ...   8.594     011n\n",
       "b'2M23595526+7511338' 2229276283631858688 ...   9.089     110n\n",
       "b'2M23595538+6442561' 2016468767318259712 ...   7.949     000n\n",
       "b'2M23595550+6402572' 2016199730570963968 ...   9.151     000n\n",
       "b'2M23595606+6251121' 2013020767578111360 ...   9.332     010n\n",
       "b'2M23595637-7223071' 6380099464951165952 ...   8.762     00nn\n",
       "b'2M23595676+7918072' 2282127264957087872 ...   8.864     110n\n",
       "b'2M23595867-7339039' 6379920759951899648 ...   9.146     00nn\n",
       "b'2M23595949-7342592' 6379914575198998272 ...   9.164     11nn"
      ]
     },
     "execution_count": 60,
     "metadata": {},
     "output_type": "execute_result"
    }
   ],
   "source": [
    "wise_data[~wise_data['source_id'].mask]"
   ]
  },
  {
   "cell_type": "code",
   "execution_count": null,
   "metadata": {},
   "outputs": [],
   "source": []
  }
 ],
 "metadata": {
  "kernelspec": {
   "display_name": "Python 3",
   "language": "python",
   "name": "python3"
  },
  "language_info": {
   "codemirror_mode": {
    "name": "ipython",
    "version": 3
   },
   "file_extension": ".py",
   "mimetype": "text/x-python",
   "name": "python",
   "nbconvert_exporter": "python",
   "pygments_lexer": "ipython3",
   "version": "3.7.6"
  }
 },
 "nbformat": 4,
 "nbformat_minor": 4
}
